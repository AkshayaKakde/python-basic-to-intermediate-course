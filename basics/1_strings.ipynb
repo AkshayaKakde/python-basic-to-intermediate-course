{
  "cells": [
    {
      "cell_type": "markdown",
      "metadata": {
        "id": "view-in-github",
        "colab_type": "text"
      },
      "source": [
        "<a href=\"https://colab.research.google.com/github/AkshayaKakde/python-basic-to-intermediate-course/blob/main/basics/1_strings.ipynb\" target=\"_parent\"><img src=\"https://colab.research.google.com/assets/colab-badge.svg\" alt=\"Open In Colab\"/></a>"
      ]
    },
    {
      "cell_type": "code",
      "execution_count": null,
      "metadata": {
        "id": "VjGUm_gVNbJr"
      },
      "outputs": [],
      "source": [
        "Question 1: Write a program to reverse a string\n",
        "\n",
        "test_string = \"AKSHAYA KAKDE\"\n",
        "\n",
        "Question 2: Write a program to find the largest element in an array/list.\n",
        "\n",
        "test_array = [123,45,46,232,456,576]\n",
        "\n",
        "Question 3: Write a program to print 'Hello, World!'\n",
        "\n",
        "Question 4: Write a program to calculate the factorial of a number\n",
        "\n",
        "test_number = 6\n",
        "\n",
        "Question 5: Write a program to convert Celsius to Fahrenheit\n",
        "\n",
        "Question 6: Write a program to find the sum of two numbers\n",
        "\n",
        "Question 7: Write a program to find the square root of a number\n",
        "\n",
        "Question 8: Write a program to check if a year is a leap year\n",
        "\n",
        "Question 9: Write a program to check if a number is even or odd\n",
        "\n",
        "Question 10: Write a program to create a new text file and put string \"Hello World\" in it.\n",
        "\n",
        "Question 11: Write a program to sort an array/list in ascending order.\n",
        "test_list = [232,23,341,234,456,67]\n",
        "\n",
        "Question 12: Write a program to count the number of vowels in a string\n",
        "test_string = \"India is my country\"I love my India.\"\n",
        "\n",
        "Question 13: Write a program to find the Fibonacci series\n",
        "\n",
        "Question 14: Write a program to check if a number is prime\n",
        "\n",
        "Question 15: Write a program to check if a string is a palindrome\n"
      ]
    },
    {
      "cell_type": "markdown",
      "source": [
        "**Solved Questions**"
      ],
      "metadata": {
        "id": "-HxDjcOekbKH"
      }
    },
    {
      "cell_type": "markdown",
      "source": [
        "Question 1: Write a program to reverse a string\n",
        "\n",
        "test_string = \"AKSHAYA KAKDE\""
      ],
      "metadata": {
        "id": "k5Prb-i5NqLN"
      }
    },
    {
      "cell_type": "code",
      "source": [
        "test_string = \"AKSHAYA KAKDE\"\n",
        "output = \"\".join(list(test_string)[::-1])\n",
        "output"
      ],
      "metadata": {
        "colab": {
          "base_uri": "https://localhost:8080/",
          "height": 35
        },
        "id": "IQYto2U4Q2SD",
        "outputId": "9dedd965-ac15-4ecc-bf72-cf902d02cd7e"
      },
      "execution_count": null,
      "outputs": [
        {
          "output_type": "execute_result",
          "data": {
            "text/plain": [
              "'EDKAK AYAHSKA'"
            ],
            "application/vnd.google.colaboratory.intrinsic+json": {
              "type": "string"
            }
          },
          "metadata": {},
          "execution_count": 1
        }
      ]
    },
    {
      "cell_type": "code",
      "source": [
        "test_string = \"AKSHAYA KAKDE\"\n",
        "reversed_string = test_string[::-1]\n",
        "print(reversed_string)"
      ],
      "metadata": {
        "colab": {
          "base_uri": "https://localhost:8080/"
        },
        "id": "h-_yfw9snOaF",
        "outputId": "01ba3cfb-b934-4884-f195-f752170d8996"
      },
      "execution_count": null,
      "outputs": [
        {
          "output_type": "stream",
          "name": "stdout",
          "text": [
            "EDKAK AYAHSKA\n"
          ]
        }
      ]
    },
    {
      "cell_type": "markdown",
      "source": [
        "Question 2: Write a program to find the largest element in an array/list.\n",
        "\n",
        "test_array = [123,45,46,232,456,576]"
      ],
      "metadata": {
        "id": "jQlwB9HANszZ"
      }
    },
    {
      "cell_type": "code",
      "source": [
        "test_array = [123, 45, 46, 232, 456, 576]\n",
        "\n",
        "largest = test_array[0]\n",
        "\n",
        "for num in test_array:\n",
        "    if num > largest:\n",
        "        largest = num\n",
        "\n",
        "print(\"The largest element in the array is:\", largest)"
      ],
      "metadata": {
        "id": "QTX3MnOLNddj",
        "colab": {
          "base_uri": "https://localhost:8080/"
        },
        "outputId": "b6f79d83-3ae8-45d3-be86-0a675d9edc74"
      },
      "execution_count": null,
      "outputs": [
        {
          "output_type": "stream",
          "name": "stdout",
          "text": [
            "The largest element in the array is: 576\n"
          ]
        }
      ]
    },
    {
      "cell_type": "markdown",
      "source": [
        "Question 3: Write a program to print 'Hello, World!'"
      ],
      "metadata": {
        "id": "sjKbyZGcmZdz"
      }
    },
    {
      "cell_type": "code",
      "source": [
        "print(\"Hello, World!\")"
      ],
      "metadata": {
        "colab": {
          "base_uri": "https://localhost:8080/"
        },
        "id": "qn6p4NWlmaMJ",
        "outputId": "bd3285c9-7e46-4ec6-bd97-210be7794742"
      },
      "execution_count": null,
      "outputs": [
        {
          "output_type": "stream",
          "name": "stdout",
          "text": [
            "Hello, World!\n"
          ]
        }
      ]
    },
    {
      "cell_type": "markdown",
      "source": [
        "Question 4: Write a program to calculate the factorial of a number\n",
        "\n",
        "test_number = 6"
      ],
      "metadata": {
        "id": "b0Knrgv5Ntgu"
      }
    },
    {
      "cell_type": "code",
      "source": [
        "test_number = 6\n",
        "\n",
        "factorial = 1\n",
        "\n",
        "for i in range(1, test_number + 1):\n",
        "    factorial *= i\n",
        "\n",
        "print(\"The factorial of\", test_number, \"is:\", factorial)"
      ],
      "metadata": {
        "colab": {
          "base_uri": "https://localhost:8080/"
        },
        "id": "lbPGNV_huj80",
        "outputId": "578c1124-162f-4e7f-c9b0-91751929b374"
      },
      "execution_count": null,
      "outputs": [
        {
          "output_type": "stream",
          "name": "stdout",
          "text": [
            "The factorial of 6 is: 720\n"
          ]
        }
      ]
    },
    {
      "cell_type": "markdown",
      "source": [
        "Question 5: Write a program to convert Celsius to Fahrenheit"
      ],
      "metadata": {
        "id": "am2dznJKmU1U"
      }
    },
    {
      "cell_type": "code",
      "source": [],
      "metadata": {
        "id": "GXgtwYy8rWPB"
      },
      "execution_count": null,
      "outputs": []
    },
    {
      "cell_type": "markdown",
      "source": [
        "Question 6: Write a program to find the sum of two numbers"
      ],
      "metadata": {
        "id": "czSwZxG0vJIk"
      }
    },
    {
      "cell_type": "code",
      "source": [
        "def sum_of_numbers(num1, num2):\n",
        "    return num1 + num2\n",
        "\n",
        "num1 = float(input(\"50\"))\n",
        "num2 = float(input(\"65\"))\n",
        "sum_result = sum_of_numbers(num1, num2)\n",
        "print(\"The sum is:\", sum_result)"
      ],
      "metadata": {
        "colab": {
          "base_uri": "https://localhost:8080/"
        },
        "id": "b3FzL7bDyoFh",
        "outputId": "a629ab71-66e4-4277-80ae-fb9a2c36c636"
      },
      "execution_count": null,
      "outputs": [
        {
          "output_type": "stream",
          "name": "stdout",
          "text": [
            "5050\n",
            "6565\n",
            "The sum is: 115.0\n"
          ]
        }
      ]
    },
    {
      "cell_type": "markdown",
      "source": [
        "Question 7: Write a program to find the square root of a number"
      ],
      "metadata": {
        "id": "lPDXKrmcvJ7h"
      }
    },
    {
      "cell_type": "code",
      "source": [
        "def square_root(num):\n",
        "    return num ** 0.5\n",
        "\n",
        "number = 16\n",
        "result = square_root(number)\n",
        "print(f\"The square root of {number} is {result}\")"
      ],
      "metadata": {
        "id": "oxA81oz8vKOR",
        "colab": {
          "base_uri": "https://localhost:8080/"
        },
        "outputId": "8c8702c5-6359-4517-b483-366bdeba1097"
      },
      "execution_count": null,
      "outputs": [
        {
          "output_type": "stream",
          "name": "stdout",
          "text": [
            "The square root of 16 is 4.0\n"
          ]
        }
      ]
    },
    {
      "cell_type": "markdown",
      "source": [
        "Question 8: Write a program to check if a year is a leap year"
      ],
      "metadata": {
        "id": "rD-BOdzzvKmZ"
      }
    },
    {
      "cell_type": "code",
      "source": [
        "def is_leap_year(year):\n",
        "    if (year % 4 == 0 and year % 100 != 0) or (year % 400 == 0):\n",
        "        return True\n",
        "    else:\n",
        "        return False\n",
        "\n",
        "year = 2024\n",
        "if is_leap_year(year):\n",
        "    print(f\"{year} is a leap year.\")\n",
        "else:\n",
        "    print(f\"{year} is not a leap year.\")"
      ],
      "metadata": {
        "id": "aFONklVhvLOn",
        "colab": {
          "base_uri": "https://localhost:8080/"
        },
        "outputId": "1a1e957c-8509-4d18-89c3-b7d2bd727c29"
      },
      "execution_count": null,
      "outputs": [
        {
          "output_type": "stream",
          "name": "stdout",
          "text": [
            "2024 is a leap year.\n"
          ]
        }
      ]
    },
    {
      "cell_type": "markdown",
      "source": [
        "Question 9: Write a program to check if a number is even or odd"
      ],
      "metadata": {
        "id": "rQgH0_xfvLhl"
      }
    },
    {
      "cell_type": "code",
      "source": [
        "def is_even_or_odd(num):\n",
        "    if num % 2 == 0:\n",
        "        return \"even\"\n",
        "    else:\n",
        "        return \"odd\"\n",
        "\n",
        "number = 7\n",
        "if is_even_or_odd(number) == \"even\":\n",
        "    print(f\"{number} is an even number.\")\n",
        "else:\n",
        "    print(f\"{number} is an odd number.\")"
      ],
      "metadata": {
        "id": "KjTZUtvLvMB_",
        "colab": {
          "base_uri": "https://localhost:8080/"
        },
        "outputId": "499ff015-7feb-467a-88bd-78f8d5d4f634"
      },
      "execution_count": null,
      "outputs": [
        {
          "output_type": "stream",
          "name": "stdout",
          "text": [
            "7 is an odd number.\n"
          ]
        }
      ]
    },
    {
      "cell_type": "markdown",
      "source": [
        "Question 10: Write a program to create a new text file and put string \"Hello World\" in it."
      ],
      "metadata": {
        "id": "nxDgpRR1vMT0"
      }
    },
    {
      "cell_type": "code",
      "source": [
        "def create_text_file():\n",
        "    with open(\"hello_world.txt\", \"w\") as file:\n",
        "        file.write(\"Hello World\")\n",
        "\n",
        "create_text_file()\n",
        "print(\"File created successfully.\")"
      ],
      "metadata": {
        "colab": {
          "base_uri": "https://localhost:8080/"
        },
        "id": "_XQAYeFfvM5P",
        "outputId": "769f9dc7-3fd4-48be-8b6d-d03e0fd2e1f4"
      },
      "execution_count": null,
      "outputs": [
        {
          "output_type": "stream",
          "name": "stdout",
          "text": [
            "File created successfully.\n"
          ]
        }
      ]
    },
    {
      "cell_type": "markdown",
      "source": [
        "Question 11: Write a program to sort an array/list in ascending order.\n",
        "test_list = [232,23,341,234,456,67]"
      ],
      "metadata": {
        "id": "CXm3bNA9vNMF"
      }
    },
    {
      "cell_type": "code",
      "source": [
        "test_list = [232, 23, 341, 234, 456, 67]\n",
        "\n",
        "test_list.sort()\n",
        "\n",
        "print(\"Sorted list in ascending order:\", test_list)"
      ],
      "metadata": {
        "colab": {
          "base_uri": "https://localhost:8080/"
        },
        "id": "G_-upwBYvNkk",
        "outputId": "cd17cc82-ea92-460a-f20b-163fbdbebc59"
      },
      "execution_count": null,
      "outputs": [
        {
          "output_type": "stream",
          "name": "stdout",
          "text": [
            "Sorted list in ascending order: [23, 67, 232, 234, 341, 456]\n"
          ]
        }
      ]
    },
    {
      "cell_type": "markdown",
      "source": [
        "Question 12: Write a program to count the number of vowels in a string\n",
        "test_string = \"India is my country\"I love my India.\""
      ],
      "metadata": {
        "id": "QCd22X0YvOGH"
      }
    },
    {
      "cell_type": "code",
      "source": [
        "test_string = \"India is my country. I love my India.\"\n",
        "\n",
        "vowels = 'aeiouAEIOU'\n",
        "\n",
        "count = 0\n",
        "\n",
        "for char in test_string:\n",
        "    if char in vowels:\n",
        "        count += 1\n",
        "\n",
        "print(\"Number of vowels in the string:\", count)"
      ],
      "metadata": {
        "colab": {
          "base_uri": "https://localhost:8080/"
        },
        "id": "KBTuPee2vOa9",
        "outputId": "4b43e2ed-3b49-4d05-da07-9e669a691808"
      },
      "execution_count": null,
      "outputs": [
        {
          "output_type": "stream",
          "name": "stdout",
          "text": [
            "Number of vowels in the string: 12\n"
          ]
        }
      ]
    },
    {
      "cell_type": "markdown",
      "source": [
        "Question 13: Write a program to find the Fibonacci series"
      ],
      "metadata": {
        "id": "WWb-LL-svOs0"
      }
    },
    {
      "cell_type": "code",
      "source": [],
      "metadata": {
        "id": "r627MSJivO_L"
      },
      "execution_count": null,
      "outputs": []
    },
    {
      "cell_type": "markdown",
      "source": [
        "Question 14: Write a program to check if a number is prime"
      ],
      "metadata": {
        "id": "GOZC1kZwvPaQ"
      }
    },
    {
      "cell_type": "code",
      "source": [
        "def is_prime(num):\n",
        "    if num <= 1:\n",
        "        return False\n",
        "    for i in range(2, int(num ** 0.5) + 1):\n",
        "        if num % i == 0:\n",
        "            return False\n",
        "    return True\n",
        "\n",
        "num = 17\n",
        "\n",
        "if is_prime(num):\n",
        "    print(num, \"is a prime number\")\n",
        "else:\n",
        "    print(num, \"is not a prime number\")\n"
      ],
      "metadata": {
        "colab": {
          "base_uri": "https://localhost:8080/"
        },
        "id": "r8iF560EvPvV",
        "outputId": "4578f001-686d-4202-dd49-872a88d766f9"
      },
      "execution_count": null,
      "outputs": [
        {
          "output_type": "stream",
          "name": "stdout",
          "text": [
            "17 is a prime number\n"
          ]
        }
      ]
    },
    {
      "cell_type": "markdown",
      "source": [
        "Question 15: Write a program to check if a string is a palindrome"
      ],
      "metadata": {
        "id": "cgq5MScUvQAP"
      }
    },
    {
      "cell_type": "code",
      "source": [],
      "metadata": {
        "id": "KetXJWfevQa3"
      },
      "execution_count": null,
      "outputs": []
    }
  ],
  "metadata": {
    "language_info": {
      "name": "python"
    },
    "colab": {
      "provenance": [],
      "include_colab_link": true
    },
    "kernelspec": {
      "name": "python3",
      "display_name": "Python 3"
    }
  },
  "nbformat": 4,
  "nbformat_minor": 0
}