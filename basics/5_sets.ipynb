{
  "nbformat": 4,
  "nbformat_minor": 0,
  "metadata": {
    "colab": {
      "provenance": []
    },
    "kernelspec": {
      "name": "python3",
      "display_name": "Python 3"
    },
    "language_info": {
      "name": "python"
    }
  },
  "cells": [
    {
      "cell_type": "markdown",
      "source": [
        "# Question 1\n",
        "# Create two sets, set1 and set2, and find their intersection.\n",
        "\n",
        "# Question 2\n",
        "# Given a set of integers named \"numbers\", remove all even numbers from the set.\n",
        "\n",
        "# Question 3\n",
        "# Write a function that takes two sets as input and returns a new set containing unique elements from both sets.\n",
        "\n",
        "# Question 4\n",
        "# Given two sets, setA and setB, determine if setA is a subset of setB.\n",
        "\n",
        "# Question 5\n",
        "# Create a set named \"unique_chars\" that contains unique characters from a given string.\n",
        "\n",
        "# Question 6\n",
        "# Implement a function that takes a list of sets and returns the union of all sets in the list.\n",
        "\n",
        "# Question 7\n",
        "# Find the symmetric difference between two sets, setX and setY.\n",
        "\n",
        "# Question 8\n",
        "# Write a program to count the number of occurrences of each element in a set.\n",
        "\n",
        "# Question 9\n",
        "# Create a set named \"vowels\" containing vowels from the alphabet and find the difference between this set and a given set of letters.\n",
        "\n",
        "# Question 10\n",
        "# Implement a function that returns True if all sets in a list are disjoint, False otherwise.\n",
        "\n",
        "# Question 11\n",
        "# Given a set of words, find the longest word in the set.\n",
        "\n",
        "# Question 12\n",
        "# Write a program to find the common elements between two sets, setP and setQ.\n",
        "\n",
        "# Question 13\n",
        "# Create a set named \"primes\" containing prime numbers less than 20 and find their sum.\n",
        "\n",
        "# Question 14\n",
        "# Implement a function that takes two sets, setM and setN, and returns a set containing elements present in both sets but not in their intersection.\n",
        "\n",
        "# Question 15\n",
        "# Given a set of names, find the second smallest name in the set.\n"
      ],
      "metadata": {
        "id": "6FXl7PpRCHZ7"
      }
    },
    {
      "cell_type": "markdown",
      "source": [
        "**Solved Questions**"
      ],
      "metadata": {
        "id": "M-NelX4mN9de"
      }
    },
    {
      "cell_type": "markdown",
      "source": [
        "Question 1:\n",
        "Create two sets, set1 and set2, and find their intersection."
      ],
      "metadata": {
        "id": "xMoAV8FrN98a"
      }
    },
    {
      "cell_type": "code",
      "source": [
        "set1 = {1, 2, 3, 4, 5}\n",
        "set2 = {4, 5, 6, 7, 8}\n",
        "intersection = set1.intersection(set2)\n",
        "print(\"Intersection of set1 and set2:\", intersection)"
      ],
      "metadata": {
        "colab": {
          "base_uri": "https://localhost:8080/"
        },
        "id": "jQTat-vSN_iR",
        "outputId": "17ae039c-12e6-4063-e50a-ea37fd935da0"
      },
      "execution_count": null,
      "outputs": [
        {
          "output_type": "stream",
          "name": "stdout",
          "text": [
            "Intersection of set1 and set2: {4, 5}\n"
          ]
        }
      ]
    },
    {
      "cell_type": "markdown",
      "source": [
        "Question 2:\n",
        "Given a set of integers named \"numbers\", remove all even numbers from the set."
      ],
      "metadata": {
        "id": "X7ZlbpE5OAKn"
      }
    },
    {
      "cell_type": "code",
      "source": [
        "numbers = {1, 2, 3, 4, 5, 6, 7, 8, 9, 10}\n",
        "numbers = {x for x in numbers if x % 2 != 0}\n",
        "print(\"Set after removing even numbers:\", numbers)"
      ],
      "metadata": {
        "colab": {
          "base_uri": "https://localhost:8080/"
        },
        "id": "W26oEEVzOAgv",
        "outputId": "f3d23188-4714-4923-ec31-53928d7e4540"
      },
      "execution_count": null,
      "outputs": [
        {
          "output_type": "stream",
          "name": "stdout",
          "text": [
            "Set after removing even numbers: {1, 3, 5, 7, 9}\n"
          ]
        }
      ]
    },
    {
      "cell_type": "markdown",
      "source": [
        "Question 3:\n",
        "Write a function that takes two sets as input and returns a new set containing unique elements from both sets."
      ],
      "metadata": {
        "id": "ctuxo_prOA1s"
      }
    },
    {
      "cell_type": "code",
      "source": [
        "def unique_elements(set1, set2):\n",
        "    return set1.union(set2)"
      ],
      "metadata": {
        "id": "DO8Gi0dsOBMW"
      },
      "execution_count": null,
      "outputs": []
    },
    {
      "cell_type": "markdown",
      "source": [
        "Question 4:\n",
        "Given two sets, setA and setB, determine if setA is a subset of setB."
      ],
      "metadata": {
        "id": "rePUyx7rOBwx"
      }
    },
    {
      "cell_type": "code",
      "source": [
        "setA = {1, 2, 3}\n",
        "setB = {1, 2, 3, 4, 5}\n",
        "is_subset = setA.issubset(setB)\n",
        "print(\"Is setA a subset of setB:\", is_subset)"
      ],
      "metadata": {
        "colab": {
          "base_uri": "https://localhost:8080/"
        },
        "id": "AkNdLxYSOCQT",
        "outputId": "f5670f76-664f-41e6-e35f-75377f539e8f"
      },
      "execution_count": null,
      "outputs": [
        {
          "output_type": "stream",
          "name": "stdout",
          "text": [
            "Is setA a subset of setB: True\n"
          ]
        }
      ]
    },
    {
      "cell_type": "markdown",
      "source": [
        "Question 5:\n",
        "Create a set named \"unique_chars\" that contains unique characters from a given string."
      ],
      "metadata": {
        "id": "_vEZJcFGOC5K"
      }
    },
    {
      "cell_type": "code",
      "source": [
        "string = \"hello world\"\n",
        "unique_chars = set(string)\n",
        "print(\"Set of unique characters:\", unique_chars)"
      ],
      "metadata": {
        "colab": {
          "base_uri": "https://localhost:8080/"
        },
        "id": "KtqK4NAiODSb",
        "outputId": "ce1f33fe-4886-4b41-fd52-8f0f634f3873"
      },
      "execution_count": null,
      "outputs": [
        {
          "output_type": "stream",
          "name": "stdout",
          "text": [
            "Set of unique characters: {'e', 'o', 'h', ' ', 'w', 'd', 'r', 'l'}\n"
          ]
        }
      ]
    },
    {
      "cell_type": "markdown",
      "source": [
        "Question 6:\n",
        "Implement a function that takes a list of sets and returns the union of all sets in the list."
      ],
      "metadata": {
        "id": "W1BDk3IEODmw"
      }
    },
    {
      "cell_type": "code",
      "source": [
        "def union_of_sets(set_list):\n",
        "    return set().union(*set_list)"
      ],
      "metadata": {
        "id": "ekLDrlPSOD84"
      },
      "execution_count": null,
      "outputs": []
    },
    {
      "cell_type": "markdown",
      "source": [
        "Question 7:\n",
        "Find the symmetric difference between two sets, setX and setY."
      ],
      "metadata": {
        "id": "LBAuODtlOEh1"
      }
    },
    {
      "cell_type": "code",
      "source": [
        "setX = {1, 2, 3}\n",
        "setY = {3, 4, 5}\n",
        "symmetric_difference = setX.symmetric_difference(setY)\n",
        "print(\"Symmetric difference between setX and setY:\", symmetric_difference)"
      ],
      "metadata": {
        "colab": {
          "base_uri": "https://localhost:8080/"
        },
        "id": "8PzKZgVPOE4g",
        "outputId": "518c007c-a61c-4c30-ec51-ccc122cb3f85"
      },
      "execution_count": null,
      "outputs": [
        {
          "output_type": "stream",
          "name": "stdout",
          "text": [
            "Symmetric difference between setX and setY: {1, 2, 4, 5}\n"
          ]
        }
      ]
    },
    {
      "cell_type": "markdown",
      "source": [
        "Question 8:\n",
        "Write a program to count the number of occurrences of each element in a set."
      ],
      "metadata": {
        "id": "UxSDkRTCOFPc"
      }
    },
    {
      "cell_type": "code",
      "source": [
        "my_set = {1, 2, 2, 3, 3, 3, 4, 4, 4, 4}\n",
        "\n",
        "element_counts = {}\n",
        "my_list = list(my_set)\n",
        "for element in my_list:\n",
        "    element_counts[element] = my_list.count(element)\n",
        "print(\"Occurrences of each element:\", element_counts)"
      ],
      "metadata": {
        "id": "fYsaR5c4hhFX",
        "outputId": "594dc0da-f5a7-4e7e-baa9-7d3e1443b97a",
        "colab": {
          "base_uri": "https://localhost:8080/"
        }
      },
      "execution_count": null,
      "outputs": [
        {
          "output_type": "stream",
          "name": "stdout",
          "text": [
            "Occurrences of each element: {1: 1, 2: 1, 3: 1, 4: 1}\n"
          ]
        }
      ]
    },
    {
      "cell_type": "markdown",
      "source": [
        "Question 9:\n",
        "Create a set named \"vowels\" containing vowels from the alphabet and find the difference between this set and a given set of letters."
      ],
      "metadata": {
        "id": "Qf0KdzVFOGAo"
      }
    },
    {
      "cell_type": "code",
      "source": [
        "vowels = {'a', 'e', 'i', 'o', 'u'}\n",
        "given_set = {'a', 'b', 'c', 'd'}\n",
        "difference = vowels.difference(given_set)\n",
        "print(\"Difference between vowels and given set:\", difference)"
      ],
      "metadata": {
        "colab": {
          "base_uri": "https://localhost:8080/"
        },
        "id": "Q4vX8fc9OGgH",
        "outputId": "3fd200ba-f827-4fa7-8756-d4e89182627c"
      },
      "execution_count": null,
      "outputs": [
        {
          "output_type": "stream",
          "name": "stdout",
          "text": [
            "Difference between vowels and given set: {'u', 'e', 'o', 'i'}\n"
          ]
        }
      ]
    },
    {
      "cell_type": "markdown",
      "source": [
        "Question 10:\n",
        "Implement a function that returns True if all sets in a list are disjoint, False otherwise."
      ],
      "metadata": {
        "id": "cJ6g7TtkOHEV"
      }
    },
    {
      "cell_type": "code",
      "source": [
        "def are_disjoint(set_list):\n",
        "    return all(set_list[0].isdisjoint(other_set) for other_set in set_list[1:])"
      ],
      "metadata": {
        "id": "ZpkvAmOhOHbv"
      },
      "execution_count": null,
      "outputs": []
    },
    {
      "cell_type": "markdown",
      "source": [
        "Question 11:\n",
        "Given a set of words, find the longest word in the set."
      ],
      "metadata": {
        "id": "7moYIZ5nOHxo"
      }
    },
    {
      "cell_type": "code",
      "source": [
        "words = {\"apple\", \"banana\", \"orange\", \"kiwi\"}\n",
        "longest_word = max(words, key=len)\n",
        "print(\"Longest word in the set:\", longest_word)"
      ],
      "metadata": {
        "colab": {
          "base_uri": "https://localhost:8080/"
        },
        "id": "Tonf966yOIJ4",
        "outputId": "fb4e6450-5b4e-4b7a-eb41-b35ec0fac6ec"
      },
      "execution_count": null,
      "outputs": [
        {
          "output_type": "stream",
          "name": "stdout",
          "text": [
            "Longest word in the set: orange\n"
          ]
        }
      ]
    },
    {
      "cell_type": "markdown",
      "source": [
        "Question 12:\n",
        "Write a program to find the common elements between two sets, setP and setQ."
      ],
      "metadata": {
        "id": "0TtZhzovOIdY"
      }
    },
    {
      "cell_type": "code",
      "source": [
        "setP = {1, 2, 3, 4, 5}\n",
        "setQ = {4, 5, 6, 7, 8}\n",
        "common_elements = setP.intersection(setQ)\n",
        "print(\"Common elements between setP and setQ:\", common_elements)"
      ],
      "metadata": {
        "colab": {
          "base_uri": "https://localhost:8080/"
        },
        "id": "tPAoPg-QOI2G",
        "outputId": "c3f38b1d-67f2-4fc8-c424-1d854fd91859"
      },
      "execution_count": null,
      "outputs": [
        {
          "output_type": "stream",
          "name": "stdout",
          "text": [
            "Common elements between setP and setQ: {4, 5}\n"
          ]
        }
      ]
    },
    {
      "cell_type": "markdown",
      "source": [
        "Question 13:\n",
        "Create a set named \"primes\" containing prime numbers less than 20 and find their sum."
      ],
      "metadata": {
        "id": "pX9DeSD5OJbm"
      }
    },
    {
      "cell_type": "code",
      "source": [
        "primes = {2, 3, 5, 7, 11, 13, 17, 19}\n",
        "sum_of_primes = sum(primes)\n",
        "print(\"Sum of prime numbers less than 20:\", sum_of_primes)"
      ],
      "metadata": {
        "colab": {
          "base_uri": "https://localhost:8080/"
        },
        "id": "CvbyaTJTOJwL",
        "outputId": "390a4d46-411a-47b7-d273-d961393e01e0"
      },
      "execution_count": null,
      "outputs": [
        {
          "output_type": "stream",
          "name": "stdout",
          "text": [
            "Sum of prime numbers less than 20: 77\n"
          ]
        }
      ]
    },
    {
      "cell_type": "markdown",
      "source": [
        "Question 14:\n",
        "Implement a function that takes two sets, setM and setN, and returns a set containing elements present in both sets but not in their intersection."
      ],
      "metadata": {
        "id": "cgWEj0pmOKIr"
      }
    },
    {
      "cell_type": "code",
      "source": [
        "def exclusive_elements(setM, setN):\n",
        "    return (setM.union(setN)) - (setM.intersection(setN))"
      ],
      "metadata": {
        "id": "daqJ6wOoOKhY"
      },
      "execution_count": null,
      "outputs": []
    },
    {
      "cell_type": "markdown",
      "source": [
        "Question 15:\n",
        "Given a set of names, find the second smallest name in the set."
      ],
      "metadata": {
        "id": "qXa1DtMOOK2w"
      }
    },
    {
      "cell_type": "code",
      "source": [
        "names = {\"John\", \"Emma\", \"Michael\", \"Sophia\"}\n",
        "sorted_names = sorted(names)\n",
        "second_smallest = sorted_names[1]\n",
        "print(\"Second smallest name in the set:\", second_smallest)"
      ],
      "metadata": {
        "colab": {
          "base_uri": "https://localhost:8080/"
        },
        "id": "0ayvMFMFOLSV",
        "outputId": "3bae7227-254d-43d6-bcc2-955c6d28d5b4"
      },
      "execution_count": null,
      "outputs": [
        {
          "output_type": "stream",
          "name": "stdout",
          "text": [
            "Second smallest name in the set: John\n"
          ]
        }
      ]
    }
  ]
}